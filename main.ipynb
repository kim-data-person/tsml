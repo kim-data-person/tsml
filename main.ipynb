{
 "cells": [
  {
   "cell_type": "code",
   "execution_count": 1,
   "metadata": {},
   "outputs": [],
   "source": [
    "%run preprocess.py  # clean and save the data\n",
    "%run adjmat.py  # generate and save the adjacency matrix"
   ]
  }
 ],
 "metadata": {
  "kernelspec": {
   "display_name": "tsml",
   "language": "python",
   "name": "tsml"
  },
  "language_info": {
   "codemirror_mode": {
    "name": "ipython",
    "version": 3
   },
   "file_extension": ".py",
   "mimetype": "text/x-python",
   "name": "python",
   "nbconvert_exporter": "python",
   "pygments_lexer": "ipython3",
   "version": "3.12.2"
  }
 },
 "nbformat": 4,
 "nbformat_minor": 2
}
