{
 "cells": [
  {
   "cell_type": "code",
   "execution_count": 1,
   "metadata": {},
   "outputs": [],
   "source": [
    "import numpy as np\n",
    "import pandas as pd\n",
    "import matplotlib.pyplot as plt\n",
    "import seaborn as sns\n",
    "import pickle\n",
    "import math\n"
   ]
  },
  {
   "cell_type": "code",
   "execution_count": 2,
   "metadata": {},
   "outputs": [
    {
     "data": {
      "text/plain": [
       "True"
      ]
     },
     "execution_count": 2,
     "metadata": {},
     "output_type": "execute_result"
    }
   ],
   "source": [
    "# Load the cleaned data\n",
    "with open('data/cleaned_data.pkl', 'rb') as f:\n",
    "    df = pickle.load(f)\n",
    "\n",
    "# Get the list of prefecture names\n",
    "prefecture_names = list(df.keys())\n",
    "\n",
    "# Load the prefecture coordinates\n",
    "coordinates = pd.read_csv('data/japanese_prefectures_coordinates.csv').set_index('Prefecture')\n",
    "\n",
    "# Sanity check (both lists are ordered)\n",
    "coordinates.index.tolist() == prefecture_names # Always follow this order"
   ]
  },
  {
   "cell_type": "code",
   "execution_count": 7,
   "metadata": {},
   "outputs": [
    {
     "name": "stdout",
     "output_type": "stream",
     "text": [
      "500 2209\n"
     ]
    }
   ],
   "source": [
    "# Calculate the distance between two points using lat and long\n",
    "def get_distance_km(diff_lat_degree, diff_long_degree):\n",
    "    diff_lat_rad = math.radians(diff_lat_degree)\n",
    "    diff_long_rad = math.radians(diff_long_degree)\n",
    "\n",
    "    earth_radius_km = 6371.0 # Globally-averaged earth's radius in kilometers\n",
    "\n",
    "    distance_km = earth_radius_km * (diff_lat_rad**2 + diff_long_rad**2)**0.5\n",
    "    return distance_km\n",
    "\n",
    "# Define the matrix weight using distance\n",
    "def get_weight(distance_km, sigma=100, epsilon=10e-5):\n",
    "    weight = np.exp(-distance_km**2 / sigma**2)\n",
    "    if weight < epsilon:\n",
    "        return 0\n",
    "    else:\n",
    "        return weight\n",
    "    \n",
    "# Create an empty adjacency matrix\n",
    "A_adj = np.zeros((len(prefecture_names), len(prefecture_names)))\n",
    "\n",
    "for i in range(A_adj.shape[0]):\n",
    "    for j in range(A_adj.shape[0]):\n",
    "        if i != j:\n",
    "            lat1 = coordinates.loc[prefecture_names[i]]['Latitude']\n",
    "            long1 = coordinates.loc[prefecture_names[i]]['Longitude']\n",
    "            lat2 = coordinates.loc[prefecture_names[j]]['Latitude']\n",
    "            long2 = coordinates.loc[prefecture_names[j]]['Longitude']\n",
    "\n",
    "            distance_km = get_distance_km(lat1-lat2, long1-long2)\n",
    "            A_adj[i, j] = get_weight(distance_km, sigma=100, epsilon=10e-4)\n",
    "\n",
    "# Count the number of non-zero elements in A_adj\n",
    "non_zero_count = np.count_nonzero(A_adj)\n",
    "\n",
    "print(non_zero_count, len(prefecture_names) * len(prefecture_names))\n"
   ]
  },
  {
   "cell_type": "code",
   "execution_count": null,
   "metadata": {},
   "outputs": [],
   "source": []
  }
 ],
 "metadata": {
  "kernelspec": {
   "display_name": "tsml",
   "language": "python",
   "name": "tsml"
  },
  "language_info": {
   "codemirror_mode": {
    "name": "ipython",
    "version": 3
   },
   "file_extension": ".py",
   "mimetype": "text/x-python",
   "name": "python",
   "nbconvert_exporter": "python",
   "pygments_lexer": "ipython3",
   "version": "3.12.2"
  }
 },
 "nbformat": 4,
 "nbformat_minor": 2
}
