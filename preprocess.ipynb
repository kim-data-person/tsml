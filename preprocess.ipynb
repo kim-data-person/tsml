{
 "cells": [
  {
   "cell_type": "code",
   "execution_count": 1,
   "metadata": {},
   "outputs": [],
   "source": [
    "import numpy as np\n",
    "import pandas as pd\n",
    "import pickle\n"
   ]
  },
  {
   "cell_type": "code",
   "execution_count": 2,
   "metadata": {},
   "outputs": [],
   "source": [
    "# Load prefecture name data\n",
    "prefecture_names = pd.read_csv(\"data/Japan_prefecture_name.csv\")\n",
    "# We need the second row only\n",
    "prefecture_names = prefecture_names.iloc[1]"
   ]
  },
  {
   "cell_type": "code",
   "execution_count": null,
   "metadata": {},
   "outputs": [],
   "source": [
    "# Load air pollution data of each prefecture\n",
    "features = ['date','pm10','pm25','so2','no2','o38h']\n",
    "df = { prefecture_names['V{}'.format(i)] : pd.read_csv(\"data/Japan_jap1219_{}.csv\".format(i))[features] for i in range(1, 48, 1) }\n",
    "# Test output\n",
    "df['Yokohama'].head(3)"
   ]
  },
  {
   "cell_type": "code",
   "execution_count": null,
   "metadata": {},
   "outputs": [],
   "source": [
    "nans = {}# Find NaN values\n",
    "for prefecture in df:\n",
    "    num_nan = df[prefecture].isna().sum().sum()\n",
    "    nans[prefecture] = num_nan\n",
    "\n",
    "# sort by number of NaN values\n",
    "sorted_nans = sorted(nans.items(), key=lambda x: x[1], reverse=True)\n",
    "# Show top 10 prefectures with most NaN values\n",
    "sorted_nans[:10]"
   ]
  },
  {
   "cell_type": "code",
   "execution_count": null,
   "metadata": {},
   "outputs": [],
   "source": [
    "# Display some examples\n",
    "display(df['Miyazaki'].head(5))\n",
    "display(df['Naha'].head(5))\n",
    "display(df['Aomori'].head(5))\n",
    "display(df['Utsunomiya'].head(5))"
   ]
  },
  {
   "cell_type": "code",
   "execution_count": null,
   "metadata": {},
   "outputs": [],
   "source": [
    "# Remove first N rows with NaN values\n",
    "first_row_index = {}\n",
    "for prefecture in df:\n",
    "    # Get the first row index without NaN values\n",
    "    first_row_index[prefecture] = df[prefecture].dropna().index[0]\n",
    "\n",
    "# Get the maximum index across all prefectures\n",
    "max_index = max(first_row_index.values())\n",
    "\n",
    "# Remove rows with index smaller than max_index\n",
    "for prefecture in df:\n",
    "    df[prefecture] = df[prefecture].iloc[max_index:]\n",
    "\n",
    "# Check if there are still NaN values\n",
    "nans = {}# Find NaN values\n",
    "for prefecture in df:\n",
    "    num_nan = df[prefecture].isna().sum().sum()\n",
    "    nans[prefecture] = num_nan\n",
    "\n",
    "# sort by number of NaN values\n",
    "sorted_nans = sorted(nans.items(), key=lambda x: x[1], reverse=True)\n",
    "# Show top 10 prefectures with most NaN values\n",
    "sorted_nans[:10] \n"
   ]
  },
  {
   "cell_type": "code",
   "execution_count": null,
   "metadata": {},
   "outputs": [],
   "source": [
    "df['Naha'][df['Naha'].isna().any(axis=1)]"
   ]
  },
  {
   "cell_type": "code",
   "execution_count": 8,
   "metadata": {},
   "outputs": [],
   "source": [
    "# Interpolate NaN values\n",
    "for prefecture in df:  \n",
    "    # Set the date as DatetimeIndex\n",
    "    df[prefecture]['date'] = pd.to_datetime(df[prefecture]['date'])\n",
    "    df[prefecture] = df[prefecture].set_index('date')\n",
    "    # Interpolate NaN values\n",
    "    df[prefecture] = df[prefecture].interpolate(method='time')\n",
    "\n",
    "# Check if there are still NaN values\n",
    "nans = {}# Find NaN values\n",
    "for prefecture in df:\n",
    "    num_nan = df[prefecture].isna().sum().sum()\n",
    "    if num_nan > 0:\n",
    "        print(prefecture, num_nan)\n"
   ]
  },
  {
   "cell_type": "code",
   "execution_count": 9,
   "metadata": {},
   "outputs": [],
   "source": [
    "# Save the cleaned data as pickle file\n",
    "with open('output/cleaned_data.pkl', 'wb') as f:\n",
    "    pickle.dump(df, f)"
   ]
  }
 ],
 "metadata": {
  "kernelspec": {
   "display_name": "tsml",
   "language": "python",
   "name": "tsml"
  },
  "language_info": {
   "codemirror_mode": {
    "name": "ipython",
    "version": 3
   },
   "file_extension": ".py",
   "mimetype": "text/x-python",
   "name": "python",
   "nbconvert_exporter": "python",
   "pygments_lexer": "ipython3",
   "version": "3.12.2"
  }
 },
 "nbformat": 4,
 "nbformat_minor": 2
}
