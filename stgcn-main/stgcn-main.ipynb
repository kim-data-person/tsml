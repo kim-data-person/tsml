{
 "cells": [
  {
   "cell_type": "code",
   "execution_count": 1,
   "metadata": {},
   "outputs": [],
   "source": [
    "import logging\n",
    "import warnings\n",
    "from main import get_parameters, data_preparate, prepare_model, train, test"
   ]
  },
  {
   "cell_type": "code",
   "execution_count": null,
   "metadata": {},
   "outputs": [
    {
     "name": "stdout",
     "output_type": "stream",
     "text": [
      "Training configs: Namespace(enable_cuda=True, seed=42, dataset='metr-la', n_his=12, n_pred=3, time_intvl=5, Kt=3, stblock_num=2, act_func='glu', Ks=3, graph_conv_type='cheb_graph_conv', gso_type='sym_norm_lap', enable_bias=True, droprate=0.5, lr=0.001, weight_decay_rate=0.001, batch_size=32, epochs=10, opt='adamw', step_size=10, gamma=0.95, patience=10)\n"
     ]
    },
    {
     "name": "stderr",
     "output_type": "stream",
     "text": [
      "  1%|▏         | 10/750 [00:02<03:09,  3.91it/s]"
     ]
    }
   ],
   "source": [
    "logging.basicConfig(level=logging.INFO)\n",
    "\n",
    "warnings.filterwarnings(\"ignore\", category=FutureWarning)\n",
    "warnings.filterwarnings(\"ignore\", category=UserWarning)\n",
    "\n",
    "args, device, blocks = get_parameters()\n",
    "n_vertex, zscore, train_iter, val_iter, test_iter = data_preparate(args, device)\n",
    "loss, es, model, optimizer, scheduler = prepare_model(args, blocks, n_vertex, device)\n",
    "train(args, model, loss, optimizer, scheduler, es, train_iter, val_iter)\n",
    "test(zscore, loss, model, test_iter, args)"
   ]
  }
 ],
 "metadata": {
  "kernelspec": {
   "display_name": "tsml",
   "language": "python",
   "name": "tsml"
  },
  "language_info": {
   "codemirror_mode": {
    "name": "ipython",
    "version": 3
   },
   "file_extension": ".py",
   "mimetype": "text/x-python",
   "name": "python",
   "nbconvert_exporter": "python",
   "pygments_lexer": "ipython3",
   "version": "3.12.9"
  }
 },
 "nbformat": 4,
 "nbformat_minor": 2
}
