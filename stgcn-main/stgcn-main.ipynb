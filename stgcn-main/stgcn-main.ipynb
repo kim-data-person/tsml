{
 "cells": [
  {
   "cell_type": "code",
   "execution_count": 1,
   "metadata": {},
   "outputs": [],
   "source": [
    "import logging\n",
    "import warnings\n",
    "from main import get_parameters, data_preparate, prepare_model, train, test"
   ]
  },
  {
   "cell_type": "code",
   "execution_count": 2,
   "metadata": {},
   "outputs": [
    {
     "name": "stdout",
     "output_type": "stream",
     "text": [
      "Training configs: Namespace(enable_cuda=True, seed=42, dataset='metr-la', n_his=12, n_pred=3, time_intvl=5, Kt=3, stblock_num=2, act_func='glu', Ks=3, graph_conv_type='cheb_graph_conv', gso_type='sym_norm_lap', enable_bias=True, droprate=0.5, lr=0.001, weight_decay_rate=0.001, batch_size=32, epochs=10, opt='adamw', step_size=10, gamma=0.95, patience=10)\n"
     ]
    },
    {
     "name": "stderr",
     "output_type": "stream",
     "text": [
      "100%|██████████| 750/750 [03:40<00:00,  3.40it/s]\n"
     ]
    },
    {
     "name": "stdout",
     "output_type": "stream",
     "text": [
      "Epoch: 001 | Lr: 0.00100000000000000002 |Train loss: 0.371453 | Val loss: 0.323010 | GPU occupy: 0.000000 MiB\n",
      "Validation loss decreased (inf --> 0.3230). Saving model...\n"
     ]
    },
    {
     "name": "stderr",
     "output_type": "stream",
     "text": [
      "100%|██████████| 750/750 [04:03<00:00,  3.09it/s]\n"
     ]
    },
    {
     "name": "stdout",
     "output_type": "stream",
     "text": [
      "Epoch: 002 | Lr: 0.00100000000000000002 |Train loss: 0.289889 | Val loss: 0.348122 | GPU occupy: 0.000000 MiB\n",
      "EarlyStopping counter: 1 out of 10\n"
     ]
    },
    {
     "name": "stderr",
     "output_type": "stream",
     "text": [
      "100%|██████████| 750/750 [04:10<00:00,  3.00it/s]\n"
     ]
    },
    {
     "name": "stdout",
     "output_type": "stream",
     "text": [
      "Epoch: 003 | Lr: 0.00100000000000000002 |Train loss: 0.280462 | Val loss: 0.317131 | GPU occupy: 0.000000 MiB\n",
      "Validation loss decreased (0.3230 --> 0.3171). Saving model...\n"
     ]
    },
    {
     "name": "stderr",
     "output_type": "stream",
     "text": [
      "100%|██████████| 750/750 [04:19<00:00,  2.89it/s]\n"
     ]
    },
    {
     "name": "stdout",
     "output_type": "stream",
     "text": [
      "Epoch: 004 | Lr: 0.00100000000000000002 |Train loss: 0.272979 | Val loss: 0.317579 | GPU occupy: 0.000000 MiB\n",
      "EarlyStopping counter: 1 out of 10\n"
     ]
    },
    {
     "name": "stderr",
     "output_type": "stream",
     "text": [
      "100%|██████████| 750/750 [04:18<00:00,  2.90it/s]\n"
     ]
    },
    {
     "name": "stdout",
     "output_type": "stream",
     "text": [
      "Epoch: 005 | Lr: 0.00100000000000000002 |Train loss: 0.271026 | Val loss: 0.318291 | GPU occupy: 0.000000 MiB\n",
      "EarlyStopping counter: 2 out of 10\n"
     ]
    },
    {
     "name": "stderr",
     "output_type": "stream",
     "text": [
      "100%|██████████| 750/750 [04:27<00:00,  2.80it/s]\n"
     ]
    },
    {
     "name": "stdout",
     "output_type": "stream",
     "text": [
      "Epoch: 006 | Lr: 0.00100000000000000002 |Train loss: 0.266606 | Val loss: 0.328950 | GPU occupy: 0.000000 MiB\n",
      "EarlyStopping counter: 3 out of 10\n"
     ]
    },
    {
     "name": "stderr",
     "output_type": "stream",
     "text": [
      "100%|██████████| 750/750 [04:09<00:00,  3.01it/s]\n"
     ]
    },
    {
     "name": "stdout",
     "output_type": "stream",
     "text": [
      "Epoch: 007 | Lr: 0.00100000000000000002 |Train loss: 0.266025 | Val loss: 0.846738 | GPU occupy: 0.000000 MiB\n",
      "EarlyStopping counter: 4 out of 10\n"
     ]
    },
    {
     "name": "stderr",
     "output_type": "stream",
     "text": [
      "100%|██████████| 750/750 [04:08<00:00,  3.02it/s]\n"
     ]
    },
    {
     "name": "stdout",
     "output_type": "stream",
     "text": [
      "Epoch: 008 | Lr: 0.00100000000000000002 |Train loss: 0.268107 | Val loss: 0.769484 | GPU occupy: 0.000000 MiB\n",
      "EarlyStopping counter: 5 out of 10\n"
     ]
    },
    {
     "name": "stderr",
     "output_type": "stream",
     "text": [
      "100%|██████████| 750/750 [04:14<00:00,  2.95it/s]\n"
     ]
    },
    {
     "name": "stdout",
     "output_type": "stream",
     "text": [
      "Epoch: 009 | Lr: 0.00100000000000000002 |Train loss: 0.264504 | Val loss: 0.530313 | GPU occupy: 0.000000 MiB\n",
      "EarlyStopping counter: 6 out of 10\n"
     ]
    },
    {
     "name": "stderr",
     "output_type": "stream",
     "text": [
      "100%|██████████| 750/750 [04:18<00:00,  2.90it/s]\n"
     ]
    },
    {
     "name": "stdout",
     "output_type": "stream",
     "text": [
      "Epoch: 010 | Lr: 0.00095000000000000000 |Train loss: 0.271894 | Val loss: 0.302889 | GPU occupy: 0.000000 MiB\n",
      "Validation loss decreased (0.3171 --> 0.3029). Saving model...\n",
      "Dataset metr-la | Test loss 0.310411 | MAE 6.145629 | RMSE 10.169440 | WMAPE 0.12097965\n"
     ]
    }
   ],
   "source": [
    "logging.basicConfig(level=logging.INFO)\n",
    "\n",
    "warnings.filterwarnings(\"ignore\", category=FutureWarning)\n",
    "warnings.filterwarnings(\"ignore\", category=UserWarning)\n",
    "\n",
    "args, device, blocks = get_parameters()\n",
    "n_vertex, zscore, train_iter, val_iter, test_iter = data_preparate(args, device)\n",
    "loss, es, model, optimizer, scheduler = prepare_model(args, blocks, n_vertex, device)\n",
    "train(args, model, loss, optimizer, scheduler, es, train_iter, val_iter)\n",
    "test(zscore, loss, model, test_iter, args)"
   ]
  }
 ],
 "metadata": {
  "kernelspec": {
   "display_name": "tsml",
   "language": "python",
   "name": "tsml"
  },
  "language_info": {
   "codemirror_mode": {
    "name": "ipython",
    "version": 3
   },
   "file_extension": ".py",
   "mimetype": "text/x-python",
   "name": "python",
   "nbconvert_exporter": "python",
   "pygments_lexer": "ipython3",
   "version": "3.12.2"
  }
 },
 "nbformat": 4,
 "nbformat_minor": 2
}
